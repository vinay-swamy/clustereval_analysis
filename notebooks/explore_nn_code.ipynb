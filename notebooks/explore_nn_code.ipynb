{
 "cells": [
  {
   "cell_type": "code",
   "execution_count": 1,
   "id": "reliable-persian",
   "metadata": {},
   "outputs": [
    {
     "name": "stderr",
     "output_type": "stream",
     "text": [
      "<ipython-input-1-9ebffc6f3da3>:10: DeprecationWarning: This package has been superseded by the `leidenalg` package and will no longer be maintained. Please upgrade to the `leidenalg` package.\n",
      "  import louvain\n"
     ]
    }
   ],
   "source": [
    "import numpy as np\n",
    "import pandas as pd\n",
    "import hnswlib\n",
    "from scipy.sparse import csr_matrix\n",
    "import igraph as ig\n",
    "import leidenalg\n",
    "import time\n",
    "import os \n",
    "import sys\n",
    "import louvain"
   ]
  },
  {
   "cell_type": "code",
   "execution_count": 52,
   "id": "saved-remove",
   "metadata": {},
   "outputs": [],
   "source": [
    "def calculate_metrics(ref_label, query_labels, experiment_name='clusterEval'):\n",
    "    \"\"\"calculate Stability and Purity for sets of custering label\n",
    "\n",
    "    :param ref_label: A set of reference labels, for which metrics can be calculate. Can be either vector like or pandas DataFrame, where column one is sample labels, and column2 is cluster labels.\n",
    "    :type ref_label: List/vector OR pandas DataFrame\n",
    "    :param query_labels: 2 or more sets of labels to compare ref_label againt. Either List of lists, or list of DataFrames(MUST MATCH ref_label FORMAT)\n",
    "    :type query_labels: List of Lists or List of Pandas DataFrames\n",
    "    :param experiment_name: name to assign current experiment\n",
    "    :type experiment_name: str\n",
    "    \"\"\" \n",
    "    if type(ref_label) == type(pd.DataFrame()):\n",
    "        if ref_label.shape[1] >2:\n",
    "            print('DF longer than 2: extra columns will be ignored')\n",
    "    \n",
    "        ref_label=ref_label.iloc[:,:2]\n",
    "        ref_label.columns = ['Barcode', 'labels']\n",
    "        query_labels = [df.rename(columns = {df.columns[0]:'Barcode', df.columns[1]:'labels' }) for df in query_labels]\n",
    "        \n",
    "        label_converted = ref_label['labels'].dtype != 'int'\n",
    "        if ref_label['Barcode'].dtype != 'int':\n",
    "            id_conv_df = pd.DataFrame().assign(Barcode=ref_label['Barcode'], \n",
    "            new_bc=list(range(ref_label.shape[0])))\n",
    "            ref_label['Barcode'] = id_conv_df['new_bc']\n",
    "            query_labels = [df.merge(id_conv_df, how='inner').drop(\n",
    "                columns=['Barcode']).rename(columns = {'new_bc': 'Barcode'})[['Barcode', 'labels']] \n",
    "                for df in query_labels\n",
    "                ]\n",
    "        if label_converted:\n",
    "            converter_df = pd.DataFrame({'labels': ref_label['labels'].unique()})\n",
    "            converter_df['new_lab'] = list(range(converter_df.shape[0]))\n",
    "            ref_label = ref_label.merge(converter_df, how='inner', on='labels').drop(\n",
    "                columns=['labels']).rename(columns = {'new_lab': 'labels'})[['Barcode', 'labels']].to_dict('list')\n",
    "            \n",
    "            ## query labels are independent from ref labels, so just convert to numeric\n",
    "            query_labels = [df.assign(labels = pd.factorize(df['labels'])[0] ).to_dict('list')\n",
    "                for df in query_labels]\n",
    "        else:\n",
    "            ref_label = ref_label.to_dict('list')\n",
    "            query_labels = [df.to_dict('list')\n",
    "                            for df in query_labels]\n",
    "#------------------------------------------------------------------------------------------------------------------------------\n",
    "        return ref_label,  query_labels\n",
    "#------------------------------------------------------------------------------------------------------------------------------\n",
    "    else:\n",
    "        ## list mode \n",
    "        is_int = np.issubdtype(int, np.integer)\n",
    "        sample_ids = list(range(len(ref_label)))\n",
    "        if is_int:\n",
    "            ref_label = {'Barcode': sample_ids, 'labels': ref_label}\n",
    "            query_labels = [{'Barcode': sample_ids, 'labels': ql}  for ql in query_labels ]\n",
    "        else:\n",
    "            converter_tab = pd.DataFrame().assign(label =ref_label, cluster_id = pd.factorize(ref_label)[0])\n",
    "            ref_label = {'Barcode': sample_ids, 'labels': converter_tab['cluster_id'].to_list()} \n",
    "            query_labels = [{'Barcode': sample_ids,\n",
    "                             'labels': pd.factorize(ql)[0].to_list()} for ql in query_labels]\n",
    "#------------------------------------------------------------------------------------------------------------------------------        \n",
    "        return ref_labels,  query_labels\n",
    "        "
   ]
  },
  {
   "cell_type": "code",
   "execution_count": 58,
   "id": "heavy-lighting",
   "metadata": {},
   "outputs": [
    {
     "data": {
      "text/plain": [
       "({'Barcode': [0, 1, 2, 3, 4, 5], 'labels': [0, 0, 0, 1, 2, 3]},\n",
       " [{'Barcode': [1, 3, 5], 'labels': [0, 1, 2]},\n",
       "  {'Barcode': [1, 3, 5], 'labels': [0, 1, 2]},\n",
       "  {'Barcode': [1, 3, 5], 'labels': [0, 1, 2]}])"
      ]
     },
     "execution_count": 58,
     "metadata": {},
     "output_type": "execute_result"
    }
   ],
   "source": [
    "all_int_ref_labels_df = pd.DataFrame({'x':[1,2,3,4,5,6],  'y':[0,0,0, 1, 1, 2] })\n",
    "all_int_query_labels_df = [pd.DataFrame({'x':[1,2,3,4,5,6],  'y':[0,0,0, 1, 1, 6] }) for _ in range(3)]\n",
    "all_string_ref_labels_df = pd.DataFrame({'x':['1','2','3','4','5','6'],  'y':['0','0','0', '1', 'C', 'D'] })\n",
    "all_string_query_labels_df = [pd.DataFrame({'x':['2','4','6'],  'y':['0','1', 'B'] }) for _ in range(3)]\n",
    "calculate_metrics(all_int_ref_labels_df, all_int_query_labels_df)\n",
    "calculate_metrics(all_string_ref_labels_df, all_string_query_labels_df)"
   ]
  },
  {
   "cell_type": "code",
   "execution_count": null,
   "id": "improved-brave",
   "metadata": {},
   "outputs": [],
   "source": []
  }
 ],
 "metadata": {
  "kernelspec": {
   "display_name": "Python 3",
   "language": "python",
   "name": "python3"
  },
  "language_info": {
   "codemirror_mode": {
    "name": "ipython",
    "version": 3
   },
   "file_extension": ".py",
   "mimetype": "text/x-python",
   "name": "python",
   "nbconvert_exporter": "python",
   "pygments_lexer": "ipython3",
   "version": "3.9.2"
  }
 },
 "nbformat": 4,
 "nbformat_minor": 5
}
